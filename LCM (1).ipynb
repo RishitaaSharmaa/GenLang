{
  "cells": [
    {
      "cell_type": "code",
      "execution_count": null,
      "metadata": {
        "colab": {
          "base_uri": "https://localhost:8080/"
        },
        "collapsed": true,
        "id": "9TiyW4hpbXS4",
        "outputId": "0a08eac1-c51a-479d-be16-e344fca792c3"
      },
      "outputs": [
        {
          "name": "stdout",
          "output_type": "stream",
          "text": [
            "Collecting datasets\n",
            "  Downloading datasets-3.5.1-py3-none-any.whl.metadata (19 kB)\n",
            "Requirement already satisfied: filelock in /usr/local/lib/python3.11/dist-packages (from datasets) (3.18.0)\n",
            "Requirement already satisfied: numpy>=1.17 in /usr/local/lib/python3.11/dist-packages (from datasets) (2.0.2)\n",
            "Requirement already satisfied: pyarrow>=15.0.0 in /usr/local/lib/python3.11/dist-packages (from datasets) (18.1.0)\n",
            "Collecting dill<0.3.9,>=0.3.0 (from datasets)\n",
            "  Downloading dill-0.3.8-py3-none-any.whl.metadata (10 kB)\n",
            "Requirement already satisfied: pandas in /usr/local/lib/python3.11/dist-packages (from datasets) (2.2.2)\n",
            "Requirement already satisfied: requests>=2.32.2 in /usr/local/lib/python3.11/dist-packages (from datasets) (2.32.3)\n",
            "Requirement already satisfied: tqdm>=4.66.3 in /usr/local/lib/python3.11/dist-packages (from datasets) (4.67.1)\n",
            "Collecting xxhash (from datasets)\n",
            "  Downloading xxhash-3.5.0-cp311-cp311-manylinux_2_17_x86_64.manylinux2014_x86_64.whl.metadata (12 kB)\n",
            "Collecting multiprocess<0.70.17 (from datasets)\n",
            "  Downloading multiprocess-0.70.16-py311-none-any.whl.metadata (7.2 kB)\n",
            "Collecting fsspec<=2025.3.0,>=2023.1.0 (from fsspec[http]<=2025.3.0,>=2023.1.0->datasets)\n",
            "  Downloading fsspec-2025.3.0-py3-none-any.whl.metadata (11 kB)\n",
            "Requirement already satisfied: aiohttp in /usr/local/lib/python3.11/dist-packages (from datasets) (3.11.15)\n",
            "Requirement already satisfied: huggingface-hub>=0.24.0 in /usr/local/lib/python3.11/dist-packages (from datasets) (0.30.2)\n",
            "Requirement already satisfied: packaging in /usr/local/lib/python3.11/dist-packages (from datasets) (24.2)\n",
            "Requirement already satisfied: pyyaml>=5.1 in /usr/local/lib/python3.11/dist-packages (from datasets) (6.0.2)\n",
            "Requirement already satisfied: aiohappyeyeballs>=2.3.0 in /usr/local/lib/python3.11/dist-packages (from aiohttp->datasets) (2.6.1)\n",
            "Requirement already satisfied: aiosignal>=1.1.2 in /usr/local/lib/python3.11/dist-packages (from aiohttp->datasets) (1.3.2)\n",
            "Requirement already satisfied: attrs>=17.3.0 in /usr/local/lib/python3.11/dist-packages (from aiohttp->datasets) (25.3.0)\n",
            "Requirement already satisfied: frozenlist>=1.1.1 in /usr/local/lib/python3.11/dist-packages (from aiohttp->datasets) (1.6.0)\n",
            "Requirement already satisfied: multidict<7.0,>=4.5 in /usr/local/lib/python3.11/dist-packages (from aiohttp->datasets) (6.4.3)\n",
            "Requirement already satisfied: propcache>=0.2.0 in /usr/local/lib/python3.11/dist-packages (from aiohttp->datasets) (0.3.1)\n",
            "Requirement already satisfied: yarl<2.0,>=1.17.0 in /usr/local/lib/python3.11/dist-packages (from aiohttp->datasets) (1.20.0)\n",
            "Requirement already satisfied: typing-extensions>=3.7.4.3 in /usr/local/lib/python3.11/dist-packages (from huggingface-hub>=0.24.0->datasets) (4.13.2)\n",
            "Requirement already satisfied: charset-normalizer<4,>=2 in /usr/local/lib/python3.11/dist-packages (from requests>=2.32.2->datasets) (3.4.1)\n",
            "Requirement already satisfied: idna<4,>=2.5 in /usr/local/lib/python3.11/dist-packages (from requests>=2.32.2->datasets) (3.10)\n",
            "Requirement already satisfied: urllib3<3,>=1.21.1 in /usr/local/lib/python3.11/dist-packages (from requests>=2.32.2->datasets) (2.4.0)\n",
            "Requirement already satisfied: certifi>=2017.4.17 in /usr/local/lib/python3.11/dist-packages (from requests>=2.32.2->datasets) (2025.1.31)\n",
            "Requirement already satisfied: python-dateutil>=2.8.2 in /usr/local/lib/python3.11/dist-packages (from pandas->datasets) (2.9.0.post0)\n",
            "Requirement already satisfied: pytz>=2020.1 in /usr/local/lib/python3.11/dist-packages (from pandas->datasets) (2025.2)\n",
            "Requirement already satisfied: tzdata>=2022.7 in /usr/local/lib/python3.11/dist-packages (from pandas->datasets) (2025.2)\n",
            "Requirement already satisfied: six>=1.5 in /usr/local/lib/python3.11/dist-packages (from python-dateutil>=2.8.2->pandas->datasets) (1.17.0)\n",
            "Downloading datasets-3.5.1-py3-none-any.whl (491 kB)\n",
            "\u001b[2K   \u001b[90m\u2501\u2501\u2501\u2501\u2501\u2501\u2501\u2501\u2501\u2501\u2501\u2501\u2501\u2501\u2501\u2501\u2501\u2501\u2501\u2501\u2501\u2501\u2501\u2501\u2501\u2501\u2501\u2501\u2501\u2501\u2501\u2501\u2501\u2501\u2501\u2501\u2501\u2501\u2501\u2501\u001b[0m \u001b[32m491.4/491.4 kB\u001b[0m \u001b[31m14.9 MB/s\u001b[0m eta \u001b[36m0:00:00\u001b[0m\n",
            "\u001b[?25hDownloading dill-0.3.8-py3-none-any.whl (116 kB)\n",
            "\u001b[2K   \u001b[90m\u2501\u2501\u2501\u2501\u2501\u2501\u2501\u2501\u2501\u2501\u2501\u2501\u2501\u2501\u2501\u2501\u2501\u2501\u2501\u2501\u2501\u2501\u2501\u2501\u2501\u2501\u2501\u2501\u2501\u2501\u2501\u2501\u2501\u2501\u2501\u2501\u2501\u2501\u2501\u2501\u001b[0m \u001b[32m116.3/116.3 kB\u001b[0m \u001b[31m4.5 MB/s\u001b[0m eta \u001b[36m0:00:00\u001b[0m\n",
            "\u001b[?25hDownloading fsspec-2025.3.0-py3-none-any.whl (193 kB)\n",
            "\u001b[2K   \u001b[90m\u2501\u2501\u2501\u2501\u2501\u2501\u2501\u2501\u2501\u2501\u2501\u2501\u2501\u2501\u2501\u2501\u2501\u2501\u2501\u2501\u2501\u2501\u2501\u2501\u2501\u2501\u2501\u2501\u2501\u2501\u2501\u2501\u2501\u2501\u2501\u2501\u2501\u2501\u2501\u2501\u001b[0m \u001b[32m193.6/193.6 kB\u001b[0m \u001b[31m11.0 MB/s\u001b[0m eta \u001b[36m0:00:00\u001b[0m\n",
            "\u001b[?25hDownloading multiprocess-0.70.16-py311-none-any.whl (143 kB)\n",
            "\u001b[2K   \u001b[90m\u2501\u2501\u2501\u2501\u2501\u2501\u2501\u2501\u2501\u2501\u2501\u2501\u2501\u2501\u2501\u2501\u2501\u2501\u2501\u2501\u2501\u2501\u2501\u2501\u2501\u2501\u2501\u2501\u2501\u2501\u2501\u2501\u2501\u2501\u2501\u2501\u2501\u2501\u2501\u2501\u001b[0m \u001b[32m143.5/143.5 kB\u001b[0m \u001b[31m7.9 MB/s\u001b[0m eta \u001b[36m0:00:00\u001b[0m\n",
            "\u001b[?25hDownloading xxhash-3.5.0-cp311-cp311-manylinux_2_17_x86_64.manylinux2014_x86_64.whl (194 kB)\n",
            "\u001b[2K   \u001b[90m\u2501\u2501\u2501\u2501\u2501\u2501\u2501\u2501\u2501\u2501\u2501\u2501\u2501\u2501\u2501\u2501\u2501\u2501\u2501\u2501\u2501\u2501\u2501\u2501\u2501\u2501\u2501\u2501\u2501\u2501\u2501\u2501\u2501\u2501\u2501\u2501\u2501\u2501\u2501\u2501\u001b[0m \u001b[32m194.8/194.8 kB\u001b[0m \u001b[31m6.8 MB/s\u001b[0m eta \u001b[36m0:00:00\u001b[0m\n",
            "\u001b[?25hInstalling collected packages: xxhash, fsspec, dill, multiprocess, datasets\n",
            "  Attempting uninstall: fsspec\n",
            "    Found existing installation: fsspec 2025.3.2\n",
            "    Uninstalling fsspec-2025.3.2:\n",
            "      Successfully uninstalled fsspec-2025.3.2\n",
            "\u001b[31mERROR: pip's dependency resolver does not currently take into account all the packages that are installed. This behaviour is the source of the following dependency conflicts.\n",
            "gcsfs 2025.3.2 requires fsspec==2025.3.2, but you have fsspec 2025.3.0 which is incompatible.\n",
            "torch 2.6.0+cu124 requires nvidia-cublas-cu12==12.4.5.8; platform_system == \"Linux\" and platform_machine == \"x86_64\", but you have nvidia-cublas-cu12 12.5.3.2 which is incompatible.\n",
            "torch 2.6.0+cu124 requires nvidia-cuda-cupti-cu12==12.4.127; platform_system == \"Linux\" and platform_machine == \"x86_64\", but you have nvidia-cuda-cupti-cu12 12.5.82 which is incompatible.\n",
            "torch 2.6.0+cu124 requires nvidia-cuda-nvrtc-cu12==12.4.127; platform_system == \"Linux\" and platform_machine == \"x86_64\", but you have nvidia-cuda-nvrtc-cu12 12.5.82 which is incompatible.\n",
            "torch 2.6.0+cu124 requires nvidia-cuda-runtime-cu12==12.4.127; platform_system == \"Linux\" and platform_machine == \"x86_64\", but you have nvidia-cuda-runtime-cu12 12.5.82 which is incompatible.\n",
            "torch 2.6.0+cu124 requires nvidia-cudnn-cu12==9.1.0.70; platform_system == \"Linux\" and platform_machine == \"x86_64\", but you have nvidia-cudnn-cu12 9.3.0.75 which is incompatible.\n",
            "torch 2.6.0+cu124 requires nvidia-cufft-cu12==11.2.1.3; platform_system == \"Linux\" and platform_machine == \"x86_64\", but you have nvidia-cufft-cu12 11.2.3.61 which is incompatible.\n",
            "torch 2.6.0+cu124 requires nvidia-curand-cu12==10.3.5.147; platform_system == \"Linux\" and platform_machine == \"x86_64\", but you have nvidia-curand-cu12 10.3.6.82 which is incompatible.\n",
            "torch 2.6.0+cu124 requires nvidia-cusolver-cu12==11.6.1.9; platform_system == \"Linux\" and platform_machine == \"x86_64\", but you have nvidia-cusolver-cu12 11.6.3.83 which is incompatible.\n",
            "torch 2.6.0+cu124 requires nvidia-cusparse-cu12==12.3.1.170; platform_system == \"Linux\" and platform_machine == \"x86_64\", but you have nvidia-cusparse-cu12 12.5.1.3 which is incompatible.\n",
            "torch 2.6.0+cu124 requires nvidia-nvjitlink-cu12==12.4.127; platform_system == \"Linux\" and platform_machine == \"x86_64\", but you have nvidia-nvjitlink-cu12 12.5.82 which is incompatible.\u001b[0m\u001b[31m\n",
            "\u001b[0mSuccessfully installed datasets-3.5.1 dill-0.3.8 fsspec-2025.3.0 multiprocess-0.70.16 xxhash-3.5.0\n"
          ]
        }
      ],
      "source": [
        "!pip install datasets"
      ]
    },
    {
      "cell_type": "code",
      "execution_count": null,
      "metadata": {
        "id": "vCq7nZrmIIoe"
      },
      "outputs": [],
      "source": [
        "from sentence_transformers import SentenceTransformer\n",
        "import torch.nn as nn\n",
        "from torch.utils.data import DataLoader, TensorDataset, random_split"
      ]
    },
    {
      "cell_type": "code",
      "execution_count": null,
      "metadata": {
        "colab": {
          "base_uri": "https://localhost:8080/",
          "height": 528,
          "referenced_widgets": [
            "3fbd53464d224528ad7cdfb76f167ebf",
            "6773829225c2487e886590828829cc76",
            "b410fffe35654816b82bab9a9f3bd0cd",
            "f6d8efad34ef4c77a135b2e63b5ad3a8",
            "9a26dfe193a241a7a4678ee81ea09487",
            "7224cb92baa244ee87414b5b502db077",
            "acb1ec58d4a84b02aef58fe7a448a1ee",
            "3492d59445744922bd114db4ca926278",
            "01dd9e9cd4034ffb92b2ead037b30ff8",
            "64c5a2b4305a433b8c51b59c5a94752e",
            "5aa0db1db0c44f129c8265ae93bf18b7",
            "ada9d6850bf24b0b9623dba0e3d0e7fc",
            "9489c0e4501b456abab30a9b4ad2f360",
            "789aff605ac547299d1f91e2c6513c63",
            "d9054c5560ad4c29b2883250c71b6572",
            "0fd751fb16134d4a904c2c48b96f0a7d",
            "d06b8a64250f4a508c912caccb67507f",
            "aea8997367b34a6f880ca708379dc66a",
            "99c6b6751d694a17821de9c8c54a6d03",
            "9ab99f1c37fe491eba0fa83010fb0d13",
            "362f336a4fe6479e9a0e7af69218d30f",
            "4af372b98b26443aaa963a285fe16d5c",
            "42afc41f61fb4273a652b44037008e3e",
            "b9564889cf374c0d843dcf8fede75fda",
            "6681c91318e64c309d1e882b5820f801",
            "c81f0378c893452788fcc3fc8815e50e",
            "7115f3bf577f411581087879468c47af",
            "c14a3d1fa79f47beba7ffdcc2a63319a",
            "8012717ab0b142b49467b6e5ac2c59c4",
            "e469f240d31048a2ae010b666c860add",
            "4304a2811cfd4880bf6a592235693f8c",
            "5645991238824de2901b0eb3de449eba",
            "a47854988c544f89bc16374b411d63cc",
            "853808b44412422da0450ac63cad0b7e",
            "e6169ac046354486aedb1fa4d5b5405c",
            "800f9121bcd14ed3841e0fb1d02cc2c7",
            "f49a9d06453a45dcae9f8b6f51134743",
            "9de5dae808214a0ca33e0b685cc476ee",
            "11a61323f66e407e8dae85cd488576a9",
            "e9bf0d15175a4e0abd2689cb562d3501",
            "dd4f2250faa74608a167b21f83e18525",
            "36dad5f1a9674254a3f5cd253e30dc18",
            "555a148bb5e54e99ac186857ea8457c3",
            "a34030fb864c4fce9ff9dfb8f69baec8",
            "2b18bfde30f549ae813f2ed526aeb6b8",
            "93a7da9aa0674701adcc0711df96185a",
            "865cd84501f54f8abbb1ca58b6c11a14",
            "798f263ad88048b6ab6fee50074d4890",
            "6b70573405b14b0eb9c31d185ed8c596",
            "6448092491354cdda88ac2ff1d53cf86",
            "a308d07bde724be6a0ce3a0b25f3c2d1",
            "f2912b17ae6c4422aa6e07fa6f464b6b",
            "42f0c2ef8a2f46ed8f15d78809aaf8ce",
            "a2c65d09c7784423881ff7630332427d",
            "5f8b61291e584dbbbe838b157c3dc4f0",
            "16a164e4c5ba4ac482fb01cf0ddabe25",
            "9eab8e923c8141f6906c1c0bedc7d3ea",
            "73398d5c2e9846af8dc61483060ed167",
            "a1a76941ff414de1b4875e927b48c1e8",
            "e17710238d8546578ae2d4c45dea696b",
            "8d498489ab0442c3acbdfc9d50d89548",
            "e894a5437ce94a39b51d7ed00b4aab27",
            "fb386579fffd4d0e8130b3c1c8fdbd6f",
            "9b5b6b2129f1470e9f8fc7784a6f91a7",
            "3de3d3c8d0064b8bac039b54996e1512",
            "f89bbffceae741d89eba7bba0982484a",
            "d8e89fb25fde4f9984fbbcfc91ec7231",
            "e31fff48140244f681cc284fa3378e05",
            "ee96a70d52ad41fdbc704d2e03623104",
            "574eed94f39648869096aac757d22446",
            "e6c07da6f843439984fb6383522002cc",
            "3a6eaeae3aae43e0836d73867f6a4918",
            "7a60a2377c024496b0c8246c4ecc5ddf",
            "55806b089ea942d29f7ff8d74cdaec79",
            "ffc02cbdc9834a8c8ba4123a0610cbee",
            "8a8cf3adb2b149008ebcd413e0bec5da",
            "5b2716301f5440a7a2bb301d46c9852b",
            "0da35b156137470aa441c93d43c7a305",
            "bbe7a6ae93354ed0a9e5a4eb1d41b2a5",
            "b892ebc698e541f7916f0deab5a3d6d6",
            "e5936d8568644ad58c6f7054c0d00f65",
            "46764ef5c6244752903185226685d28e",
            "13cbb7d143c64de69610a81b4c0c1ce7",
            "b6923f1341274bbb86104c4d0715a37c",
            "b0b25a10e44149018e3ffae82e0afe79",
            "5cbd49c94d49477ea9a9f73df0869a16",
            "d7591d5d87074ccda8460188dbab7ccd",
            "404288abd2ca42449a6a0b6c09f4bec7",
            "9622238648db4a7cb78abf5c91e14be3",
            "f6d4018f691e491e96eae857d518b31b",
            "1cb1d24cccb44853b41f5ed31e6ec89b",
            "54313e3c5ede413890ac573820062da7",
            "5ad48e1df7094214bdab4de2c5a89d5c",
            "8737c6bf95b745ccb03561090877f7fa",
            "b06ac074a13e433799897b5322b65892",
            "175f9d4507714653bdbf2bafbb15c89c",
            "b7b07cc4435142fd86bca0493ced1f30",
            "7ae581472c444fb68329ab3bb502c7fe",
            "abca0d7cbac5404895a2424798b82833",
            "45a563f1ac5c4d38828bc65c85e7309b",
            "c5566c7021874318a752c020fa04a414",
            "1a63a917f9ba434f842f9f04e1472199",
            "705fe3aa8d184b72a579e100c3c53020",
            "7384dc3dfcd6481c8e5447f88d020e50",
            "d8cc548b316c412f8328fa95e4e3f7e2",
            "8fc82eefa85f461e9691c49782d29b03",
            "bdb75340ccb440da9b3fb26405b63f6a",
            "993fc18c24584982812db6cb97095d30",
            "a17c3f717c8b400c8860fcea273ca167",
            "22a12c26e9d64cfc9063fefcbcb803ac",
            "c2c0a0c5000a48ef98345357ee72e03f",
            "802ad2a146f8457480433d5362acd075",
            "410e24fe616e4f89865ffb650a4cb6b3",
            "a0b43eb9bae543d189d08ff5cdd9aca0",
            "09a09bc7f4924c279e48523cb5e1ae1f",
            "181c5b01c3a54e6992039b6c3168f01e",
            "d17a3bd4fc1f4924830e9c9c7e967555",
            "ca67740ce4494641b3a91db3460539d5",
            "11d626beefc34c35a46ea813e64098f5",
            "fe097263426e4c21bedae597c9a994a7",
            "403f5b2efcf443758517aec811c5ad87"
          ]
        },
        "collapsed": true,
        "id": "s29fb2g5IDal",
        "outputId": "a519d60b-74d1-44a4-ab25-fee65158609e"
      },
      "outputs": [
        {
          "name": "stderr",
          "output_type": "stream",
          "text": [
            "/usr/local/lib/python3.11/dist-packages/huggingface_hub/utils/_auth.py:94: UserWarning: \n",
            "The secret `HF_TOKEN` does not exist in your Colab secrets.\n",
            "To authenticate with the Hugging Face Hub, create a token in your settings tab (https://huggingface.co/settings/tokens), set it as secret in your Google Colab and restart your session.\n",
            "You will be able to reuse this secret in all of your notebooks.\n",
            "Please note that authentication is recommended but still optional to access public models or datasets.\n",
            "  warnings.warn(\n"
          ]
        },
        {
          "data": {
            "application/vnd.jupyter.widget-view+json": {
              "model_id": "3fbd53464d224528ad7cdfb76f167ebf",
              "version_major": 2,
              "version_minor": 0
            },
            "text/plain": [
              "modules.json:   0%|          | 0.00/349 [00:00<?, ?B/s]"
            ]
          },
          "metadata": {},
          "output_type": "display_data"
        },
        {
          "data": {
            "application/vnd.jupyter.widget-view+json": {
              "model_id": "ada9d6850bf24b0b9623dba0e3d0e7fc",
              "version_major": 2,
              "version_minor": 0
            },
            "text/plain": [
              "config_sentence_transformers.json:   0%|          | 0.00/116 [00:00<?, ?B/s]"
            ]
          },
          "metadata": {},
          "output_type": "display_data"
        },
        {
          "data": {
            "application/vnd.jupyter.widget-view+json": {
              "model_id": "42afc41f61fb4273a652b44037008e3e",
              "version_major": 2,
              "version_minor": 0
            },
            "text/plain": [
              "README.md:   0%|          | 0.00/10.5k [00:00<?, ?B/s]"
            ]
          },
          "metadata": {},
          "output_type": "display_data"
        },
        {
          "data": {
            "application/vnd.jupyter.widget-view+json": {
              "model_id": "853808b44412422da0450ac63cad0b7e",
              "version_major": 2,
              "version_minor": 0
            },
            "text/plain": [
              "sentence_bert_config.json:   0%|          | 0.00/53.0 [00:00<?, ?B/s]"
            ]
          },
          "metadata": {},
          "output_type": "display_data"
        },
        {
          "data": {
            "application/vnd.jupyter.widget-view+json": {
              "model_id": "2b18bfde30f549ae813f2ed526aeb6b8",
              "version_major": 2,
              "version_minor": 0
            },
            "text/plain": [
              "config.json:   0%|          | 0.00/612 [00:00<?, ?B/s]"
            ]
          },
          "metadata": {},
          "output_type": "display_data"
        },
        {
          "name": "stderr",
          "output_type": "stream",
          "text": [
            "Xet Storage is enabled for this repo, but the 'hf_xet' package is not installed. Falling back to regular HTTP download. For better performance, install the package with: `pip install huggingface_hub[hf_xet]` or `pip install hf_xet`\n",
            "WARNING:huggingface_hub.file_download:Xet Storage is enabled for this repo, but the 'hf_xet' package is not installed. Falling back to regular HTTP download. For better performance, install the package with: `pip install huggingface_hub[hf_xet]` or `pip install hf_xet`\n"
          ]
        },
        {
          "data": {
            "application/vnd.jupyter.widget-view+json": {
              "model_id": "16a164e4c5ba4ac482fb01cf0ddabe25",
              "version_major": 2,
              "version_minor": 0
            },
            "text/plain": [
              "model.safetensors:   0%|          | 0.00/90.9M [00:00<?, ?B/s]"
            ]
          },
          "metadata": {},
          "output_type": "display_data"
        },
        {
          "data": {
            "application/vnd.jupyter.widget-view+json": {
              "model_id": "d8e89fb25fde4f9984fbbcfc91ec7231",
              "version_major": 2,
              "version_minor": 0
            },
            "text/plain": [
              "tokenizer_config.json:   0%|          | 0.00/350 [00:00<?, ?B/s]"
            ]
          },
          "metadata": {},
          "output_type": "display_data"
        },
        {
          "data": {
            "application/vnd.jupyter.widget-view+json": {
              "model_id": "0da35b156137470aa441c93d43c7a305",
              "version_major": 2,
              "version_minor": 0
            },
            "text/plain": [
              "vocab.txt:   0%|          | 0.00/232k [00:00<?, ?B/s]"
            ]
          },
          "metadata": {},
          "output_type": "display_data"
        },
        {
          "data": {
            "application/vnd.jupyter.widget-view+json": {
              "model_id": "9622238648db4a7cb78abf5c91e14be3",
              "version_major": 2,
              "version_minor": 0
            },
            "text/plain": [
              "tokenizer.json:   0%|          | 0.00/466k [00:00<?, ?B/s]"
            ]
          },
          "metadata": {},
          "output_type": "display_data"
        },
        {
          "data": {
            "application/vnd.jupyter.widget-view+json": {
              "model_id": "45a563f1ac5c4d38828bc65c85e7309b",
              "version_major": 2,
              "version_minor": 0
            },
            "text/plain": [
              "special_tokens_map.json:   0%|          | 0.00/112 [00:00<?, ?B/s]"
            ]
          },
          "metadata": {},
          "output_type": "display_data"
        },
        {
          "data": {
            "application/vnd.jupyter.widget-view+json": {
              "model_id": "c2c0a0c5000a48ef98345357ee72e03f",
              "version_major": 2,
              "version_minor": 0
            },
            "text/plain": [
              "config.json:   0%|          | 0.00/190 [00:00<?, ?B/s]"
            ]
          },
          "metadata": {},
          "output_type": "display_data"
        }
      ],
      "source": [
        "model = SentenceTransformer('all-MiniLM-L6-v2')"
      ]
    },
    {
      "cell_type": "code",
      "execution_count": null,
      "metadata": {
        "colab": {
          "base_uri": "https://localhost:8080/",
          "height": 308,
          "referenced_widgets": [
            "0f80b288ac2645b793d428219f77a891",
            "b4b02f372f604ff3adc8d19f23a6e58e",
            "fb31d336c8334d64a8c9bd27bff032c2",
            "2642f421b0184e2dbe44dd4ecbe354c9",
            "856eba8c7b624510a849b8bc3d720c40",
            "b08961c1b95147be8c80269de22bf57d",
            "73e0ee563fb64a0f8ae58582b964478c",
            "e54ebd014c23441d83797efd460d899e",
            "e0d91b29a1654c6996b22455f103b12b",
            "5a059b8f084a40369cb2354fe56bf9f4",
            "bd0d2cd2625c4aa0b2d446439ed9d5e6",
            "d99daea4207644daaa5630b469471a0c",
            "14a6ddfe10b34af9a61da2cd5501f266",
            "e362e39fb4154885a79a18186548ea7b",
            "08a088456d3b4af0889545a4879adb51",
            "9a85e31264e64fa28b897de770fbca53",
            "ddead022913d47f1a9c1b72e6e7b6b7d",
            "3c9b508f34864b569e0d28c88cecd9d9",
            "4faeab19a1be463aa5f74fc078af0baf",
            "0f2ecdf6401942dea02bd1777a442def",
            "e60522edeac34ffebf8e6cae286b405c",
            "22a45c03be834d57a0e994c52bb78f0b",
            "a69ca092e02e4535a4f0ca736deabe6c",
            "8360385e13064922a8853296b8839cf0",
            "8e4c804145904f828983d0a2cc56dff9",
            "f02b28ffa03742b5aad3f3439f1e36bd",
            "db87a02112754af0acb97fdd1f1ebc21",
            "c76bed8ede364005bd3f95d968ec2da0",
            "d896b6ec28c942a58349eaa29011867e",
            "ac1fa3ff8b6d4f099cc009eeec7dba96",
            "812393a3bffa42c599a7a5a455f646e7",
            "eccf67f791014b90be916412b1311e8c",
            "fb3c2f29c07f476aaf49e9ef68d50a89",
            "222d794cdbbc4a678aaf6cd51a064b13",
            "abbb5fd30c114d9fba3f6c034d597752",
            "dbfb63a9eaa341e2a0e6890d95acbe8a",
            "e932d1c2f78944f1b95b12b2dbbe18a2",
            "8e7dc150240c471480bdce7fc4670e6e",
            "3fac685a08f04419b47cfba0ad8ce754",
            "2195dd4623514976826ce6d13962916a",
            "e5ac9b95e7a84ec5b6f8a1ff382b76fc",
            "9b2ef0e0a85a4ae8917b6f3b5d17c231",
            "8b76c1bde96f4601a5ba2d8d65df49d3",
            "4e866f161f0a41e28e933506569ae26a",
            "b2cc24aaa59541fe9b9e7e18506d9bd8",
            "995d4a70c5c24f6694d6d09af29a3f2e",
            "9d3bf6295d6748009ef0e67e2f4c124e",
            "7d6dc41dee2d45ca886d517c0e57f06c",
            "1508c7d7d84d4a05a08ebf07cbf746fb",
            "ea75b7e2ad9d48358541c50d395ea98b",
            "7c3c9e4533e0408896f0ff7931e42ec6",
            "751676e4ed274beeaec38735066ca170",
            "122aaa28416e499cb61a275546ad33fc",
            "da775203f16d4416a69fc203e7072bb4",
            "f4e38ed88b0f4e7cb9ba0807c180930e",
            "f902023f26594672af2fba5bf01a30ee",
            "c5c321a6d63b47efb2a8951b468f329f",
            "35e2275a9a324a59b20d756c85b76b09",
            "f118b3e99e124ee08a6c4694fac50d71",
            "f2eb2c2e8f664186915d4cefa2128947",
            "557f41a394a1486c9150313b347972f1",
            "ade879df95fb49e2885b326f7156bb30",
            "607abb2938ee4ae8b42fd314bedba076",
            "2a6c3a0d76154b369ca4f05820591ea4",
            "f393d962a06049119308e4b687e26a56",
            "cbdd0e04c25f4758bc767408ac2cefc7",
            "fbc9ea6fbcd64a08a01e053e0a9af759",
            "fbd7ea74d6cb4d0f878d99e083afe97c",
            "04031fe36d964a7483de2a5962f7e63f",
            "fa863b2d612e43eeb63e1245b8efddc2",
            "cfa4bdc8ae9a40d1b27e93b8d05b396e",
            "493a653d5a3b4c049cdf8095301a5f64",
            "10b71b287bf74173b91707dc5186a6f8",
            "a56374f6123d40fba00be4d9ab8c500a",
            "c46e134d0936431cb9c6d6dd92fc31c8",
            "e073f74eaae149afa46ddb79c5da09aa",
            "fc18677655eb446a87bfa30fe3123876",
            "6a95948eb1134c008a18d3a40013f6dc",
            "cb260f8c0d8f4d65b9577a7fe31a1467",
            "b1f6d17da40745ada7b02f4edd2e82ca",
            "07ed0166af75453e9e77748a7e4e4e06",
            "0a19a4ae956a409e83e90758ee197b19",
            "3397a676dcc54f9e91eb98495ab994ed",
            "3a417dfc0c5149ee92e6d7faa31bcec4",
            "cd01fa9a58da4d47ae5e37076e9745af",
            "27b95f7dab3b4527929d3ed9a9c34f1a",
            "7df06413576d475a901ff27fc3cbb718",
            "2ae1da33d66c4520864f4d14f7891dad"
          ]
        },
        "collapsed": true,
        "id": "AexgELx0rbiU",
        "outputId": "839504d1-36c8-43ca-ba1f-b27fc1f4cc2e"
      },
      "outputs": [
        {
          "name": "stderr",
          "output_type": "stream",
          "text": [
            "[nltk_data] Downloading package punkt_tab to /root/nltk_data...\n",
            "[nltk_data]   Unzipping tokenizers/punkt_tab.zip.\n"
          ]
        },
        {
          "data": {
            "application/vnd.jupyter.widget-view+json": {
              "model_id": "0f80b288ac2645b793d428219f77a891",
              "version_major": 2,
              "version_minor": 0
            },
            "text/plain": [
              "README.md:   0%|          | 0.00/10.5k [00:00<?, ?B/s]"
            ]
          },
          "metadata": {},
          "output_type": "display_data"
        },
        {
          "data": {
            "application/vnd.jupyter.widget-view+json": {
              "model_id": "d99daea4207644daaa5630b469471a0c",
              "version_major": 2,
              "version_minor": 0
            },
            "text/plain": [
              "test-00000-of-00001.parquet:   0%|          | 0.00/722k [00:00<?, ?B/s]"
            ]
          },
          "metadata": {},
          "output_type": "display_data"
        },
        {
          "data": {
            "application/vnd.jupyter.widget-view+json": {
              "model_id": "a69ca092e02e4535a4f0ca736deabe6c",
              "version_major": 2,
              "version_minor": 0
            },
            "text/plain": [
              "train-00000-of-00002.parquet:   0%|          | 0.00/156M [00:00<?, ?B/s]"
            ]
          },
          "metadata": {},
          "output_type": "display_data"
        },
        {
          "data": {
            "application/vnd.jupyter.widget-view+json": {
              "model_id": "222d794cdbbc4a678aaf6cd51a064b13",
              "version_major": 2,
              "version_minor": 0
            },
            "text/plain": [
              "train-00001-of-00002.parquet:   0%|          | 0.00/156M [00:00<?, ?B/s]"
            ]
          },
          "metadata": {},
          "output_type": "display_data"
        },
        {
          "data": {
            "application/vnd.jupyter.widget-view+json": {
              "model_id": "b2cc24aaa59541fe9b9e7e18506d9bd8",
              "version_major": 2,
              "version_minor": 0
            },
            "text/plain": [
              "validation-00000-of-00001.parquet:   0%|          | 0.00/655k [00:00<?, ?B/s]"
            ]
          },
          "metadata": {},
          "output_type": "display_data"
        },
        {
          "data": {
            "application/vnd.jupyter.widget-view+json": {
              "model_id": "f902023f26594672af2fba5bf01a30ee",
              "version_major": 2,
              "version_minor": 0
            },
            "text/plain": [
              "Generating test split:   0%|          | 0/4358 [00:00<?, ? examples/s]"
            ]
          },
          "metadata": {},
          "output_type": "display_data"
        },
        {
          "data": {
            "application/vnd.jupyter.widget-view+json": {
              "model_id": "fbc9ea6fbcd64a08a01e053e0a9af759",
              "version_major": 2,
              "version_minor": 0
            },
            "text/plain": [
              "Generating train split:   0%|          | 0/1801350 [00:00<?, ? examples/s]"
            ]
          },
          "metadata": {},
          "output_type": "display_data"
        },
        {
          "data": {
            "application/vnd.jupyter.widget-view+json": {
              "model_id": "6a95948eb1134c008a18d3a40013f6dc",
              "version_major": 2,
              "version_minor": 0
            },
            "text/plain": [
              "Generating validation split:   0%|          | 0/3760 [00:00<?, ? examples/s]"
            ]
          },
          "metadata": {},
          "output_type": "display_data"
        }
      ],
      "source": [
        "from datasets import load_dataset\n",
        "import nltk\n",
        "nltk.download('punkt_tab')\n",
        "from nltk.tokenize import sent_tokenize\n",
        "dataset = load_dataset(\"wikitext\", \"wikitext-103-v1\",split=\"train\")\n",
        "raw_texts=dataset[\"text\"]\n",
        "sentences=[]\n",
        "\n"
      ]
    },
    {
      "cell_type": "code",
      "execution_count": null,
      "metadata": {
        "colab": {
          "base_uri": "https://localhost:8080/"
        },
        "id": "YGANqjXj2976",
        "outputId": "db625721-0e69-4ddf-ad9b-de7c9c8fb23b"
      },
      "outputs": [
        {
          "name": "stdout",
          "output_type": "stream",
          "text": [
            "Sample sentences: [' = Valkyria Chronicles III =', ' Senj\u014d no Valkyria 3 : <unk> Chronicles ( Japanese : \u6226\u5834\u306e\u30f4\u30a1\u30eb\u30ad\u30e5\u30ea\u30a23 , lit .', 'Valkyria of the Battlefield 3 ) , commonly referred to as Valkyria Chronicles III outside Japan , is a tactical role @-@ playing video game developed by Sega and Media.Vision for the PlayStation Portable .', 'Released in January 2011 in Japan , it is the third game in the Valkyria series .', 'Employing the same fusion of tactical and real @-@ time gameplay as its predecessors , the story runs parallel to the first game and follows the \" Nameless \" , a penal military unit serving the nation of Gallia during the Second Europan War who perform secret black operations and are pitted against the Imperial unit \" <unk> Raven \" .']\n",
            "Total sentences: 4290307\n"
          ]
        }
      ],
      "source": [
        "for paragraph in raw_texts:\n",
        "  if paragraph.strip()!=\"\":\n",
        "    sents=sent_tokenize(paragraph)\n",
        "    sentences.extend(sents)\n",
        "\n",
        "print(\"Sample sentences:\", sentences[:5])\n",
        "print(\"Total sentences:\", len(sentences))"
      ]
    },
    {
      "cell_type": "code",
      "execution_count": null,
      "metadata": {
        "collapsed": true,
        "id": "1UWvqTGR4TKF"
      },
      "outputs": [],
      "source": [
        "# embeddings =t2vec_model.predict(sentences,source_lang=\"eng_Latn\")\n",
        "# embeddings.shape"
      ]
    },
    {
      "cell_type": "code",
      "execution_count": null,
      "metadata": {
        "colab": {
          "background_save": true,
          "base_uri": "https://localhost:8080/"
        },
        "id": "aYUlxH2PIS1L",
        "outputId": "cea995e1-1b0d-462e-a68c-4f9a82da959a"
      },
      "outputs": [
        {
          "name": "stderr",
          "output_type": "stream",
          "text": [
            "100%|\u2588\u2588\u2588\u2588\u2588\u2588\u2588\u2588\u2588\u2588| 16760/16760 [29:19<00:00,  9.52it/s]\n"
          ]
        }
      ],
      "source": [
        "from tqdm import tqdm\n",
        "import torch\n",
        "def get_embeddings_in_batches(sentences, batch_size=32):\n",
        "    all_embeddings = []\n",
        "    for i in tqdm(range(0, len(sentences), batch_size)):\n",
        "        batch = sentences[i:i + batch_size]\n",
        "        batch_embeddings = model.encode(batch, convert_to_tensor=True)\n",
        "        all_embeddings.append(batch_embeddings)\n",
        "    return torch.cat(all_embeddings, dim=0)\n",
        "\n",
        "embeddings = get_embeddings_in_batches(sentences, batch_size=256)"
      ]
    },
    {
      "cell_type": "code",
      "execution_count": null,
      "metadata": {
        "colab": {
          "background_save": true
        },
        "id": "07L00Ka97zvs"
      },
      "outputs": [],
      "source": [
        "import torch.nn.functional as F\n",
        "def normalize_in_batches(embeddings, batch_size=1024):\n",
        "    normalized = []\n",
        "    for i in tqdm(range(0, len(embeddings), batch_size)):\n",
        "        batch = embeddings[i:i + batch_size]\n",
        "        batch = F.normalize(batch, p=2, dim=-1)\n",
        "        normalized.append(batch)\n",
        "    return torch.cat(normalized, dim=0)\n"
      ]
    },
    {
      "cell_type": "code",
      "execution_count": null,
      "metadata": {
        "colab": {
          "background_save": true
        },
        "id": "qfWqUSrJ7jvQ"
      },
      "outputs": [],
      "source": [
        "seq_len = 10\n",
        "embeddings = embeddings[:len(embeddings) // seq_len * seq_len]\n",
        "embeddings = embeddings.reshape(-1, seq_len, embeddings.shape[-1])  # Shape: [batch, seq_len, 384]\n",
        "\n",
        "# Shift for input/target: input[:-1] predicts target[+1]\n",
        "inputs = embeddings[:, :-1, :]\n",
        "targets = embeddings[:, 1:, :]"
      ]
    },
    {
      "cell_type": "code",
      "execution_count": null,
      "metadata": {
        "colab": {
          "background_save": true
        },
        "id": "U_LyqH6jJKkC"
      },
      "outputs": [],
      "source": [
        "train_size = int(0.9 * len(inputs))\n",
        "X_train, X_val = inputs[:train_size], inputs[train_size:]\n",
        "y_train, y_val = targets[:train_size], targets[train_size:]"
      ]
    },
    {
      "cell_type": "code",
      "execution_count": null,
      "metadata": {
        "colab": {
          "background_save": true
        },
        "id": "P72PNDhnJTcD"
      },
      "outputs": [],
      "source": [
        "batch_size = 64\n",
        "train_loader = DataLoader(TensorDataset(X_train, y_train), batch_size=batch_size, shuffle=True)\n",
        "val_loader = DataLoader(TensorDataset(X_val, y_val), batch_size=batch_size)"
      ]
    },
    {
      "cell_type": "code",
      "execution_count": null,
      "metadata": {
        "colab": {
          "background_save": true
        },
        "id": "vIVGAjeaPNz2"
      },
      "outputs": [],
      "source": [
        "class PreNet(nn.Module):\n",
        "    def __init__(self, input_dim, hidden_dim):\n",
        "        super().__init__()\n",
        "        self.norm = nn.LayerNorm(input_dim)\n",
        "        self.linear = nn.Linear(input_dim, hidden_dim)\n",
        "        self.activation = nn.GELU()\n",
        "\n",
        "    def forward(self, x):\n",
        "        return self.activation(self.linear(self.norm(x)))\n",
        "\n",
        "class TransformerDecoder(nn.Module):\n",
        "    def __init__(self, hidden_dim, num_heads, num_layers, ff_dim, dropout=0.1):\n",
        "        super().__init__()\n",
        "        self.layers = nn.ModuleList([\n",
        "            nn.TransformerDecoderLayer(\n",
        "                d_model=hidden_dim,\n",
        "                nhead=num_heads,\n",
        "                dim_feedforward=ff_dim,\n",
        "                dropout=dropout,\n",
        "                batch_first=True,\n",
        "                activation='gelu'\n",
        "            ) for _ in range(num_layers)\n",
        "        ])\n",
        "        self.pos_embed = nn.Parameter(torch.randn(1, 1024, hidden_dim))  # max seq_len = 1024\n",
        "\n",
        "    def forward(self, x):\n",
        "        seq_len = x.shape[1]\n",
        "        mask = torch.triu(torch.ones(seq_len, seq_len, dtype=torch.bool, device=x.device), diagonal=1)\n",
        "        x = x + self.pos_embed[:, :seq_len]\n",
        "        for layer in self.layers:\n",
        "            x = layer(x, x, tgt_mask=mask)\n",
        "        return x\n",
        "\n",
        "class PostNet(nn.Module):\n",
        "    def __init__(self, hidden_dim, output_dim):\n",
        "        super().__init__()\n",
        "        self.linear = nn.Linear(hidden_dim, output_dim)\n",
        "        self.scale = nn.Parameter(torch.ones(output_dim))\n",
        "        self.shift = nn.Parameter(torch.zeros(output_dim))\n",
        "\n",
        "    def forward(self, x):\n",
        "        return self.linear(x) * self.scale + self.shift\n",
        "\n",
        "class BaseLCM(nn.Module):\n",
        "    def __init__(self, input_dim=384, hidden_dim=512, num_heads=8,\n",
        "                 num_layers=6, ff_dim=2048):\n",
        "        super().__init__()\n",
        "        self.prenet = PreNet(input_dim, hidden_dim)\n",
        "        self.decoder = TransformerDecoder(hidden_dim, num_heads, num_layers, ff_dim)\n",
        "        self.postnet = PostNet(hidden_dim, input_dim)\n",
        "\n",
        "    def forward(self, x):\n",
        "        x = self.prenet(x)\n",
        "        x = self.decoder(x)\n",
        "        return self.postnet(x)"
      ]
    },
    {
      "cell_type": "code",
      "execution_count": null,
      "metadata": {
        "id": "G0mbQxt-9C2S"
      },
      "outputs": [],
      "source": [
        "device = torch.device(\"cuda\" if torch.cuda.is_available() else \"cpu\")\n",
        "model = BaseLCM().to(device)\n",
        "\n",
        "optimizer = torch.optim.AdamW(model.parameters(), lr=1e-4)\n",
        "loss_fn = nn.MSELoss()\n",
        "scaler = torch.cuda.amp.GradScaler() if torch.cuda.is_available() else None\n",
        "\n",
        "epochs = 5\n",
        "for epoch in range(epochs):\n",
        "    model.train()\n",
        "    train_loss = 0\n",
        "\n",
        "    for batch_in, batch_out in tqdm(train_loader, desc=f\"Epoch {epoch+1}/{epochs}\"):\n",
        "        batch_in, batch_out = batch_in.to(device), batch_out.to(device)\n",
        "\n",
        "        optimizer.zero_grad()\n",
        "        if scaler:\n",
        "            with torch.cuda.amp.autocast():\n",
        "                output = model(batch_in)\n",
        "                loss = loss_fn(output, batch_out)\n",
        "            scaler.scale(loss).backward()\n",
        "            scaler.step(optimizer)\n",
        "            scaler.update()\n",
        "        else:\n",
        "            output = model(batch_in)\n",
        "            loss = loss_fn(output, batch_out)\n",
        "            loss.backward()\n",
        "            optimizer.step()\n",
        "\n",
        "        train_loss += loss.item()\n",
        "\n",
        "    train_loss /= len(train_loader)\n",
        "\n",
        "    # Validation\n",
        "    model.eval()\n",
        "    val_loss = 0\n",
        "    with torch.no_grad():\n",
        "        for batch_in, batch_out in val_loader:\n",
        "            batch_in, batch_out = batch_in.to(device), batch_out.to(device)\n",
        "            output = model(batch_in)\n",
        "            val_loss += loss_fn(output, batch_out).item()\n",
        "    val_loss /= len(val_loader)\n",
        "\n",
        "    print(f\"Epoch {epoch+1}: Train Loss = {train_loss:.4f}, Val Loss = {val_loss:.4f}\")"
      ]
    },
    {
      "cell_type": "code",
      "execution_count": null,
      "metadata": {
        "id": "vBLAu7YDPtdw"
      },
      "outputs": [],
      "source": [
        "torch.save(model.state_dict(), \"base_lcm_model.pth\")\n",
        "print(\"Model saved to base_lcm_model.pth\")"
      ]
    }
  ],
  "metadata": {
    "accelerator": "GPU",
    "colab": {
      "gpuType": "T4",
      "provenance": []
    },
    "kernelspec": {
      "display_name": "Python 3",
      "name": "python3"
    },
    "language_info": {
      "name": "python"
    }
  },
  "nbformat": 4,
  "nbformat_minor": 0
}